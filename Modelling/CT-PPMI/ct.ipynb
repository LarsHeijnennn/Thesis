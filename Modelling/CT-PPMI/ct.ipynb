{
 "cells": [
  {
   "cell_type": "code",
   "execution_count": 1,
   "metadata": {},
   "outputs": [],
   "source": [
    "import pandas as pd\n",
    "\n",
    "# Load the CSV file\n",
    "file_path = '/Users/larsheijnen/Thesis/data/CT/CT_Scan_07Apr2025.csv'\n",
    "data = pd.read_csv(file_path)"
   ]
  },
  {
   "cell_type": "code",
   "execution_count": 2,
   "metadata": {},
   "outputs": [
    {
     "name": "stdout",
     "output_type": "stream",
     "text": [
      "No patients with multiple visits found.\n"
     ]
    }
   ],
   "source": [
    "duplicate_patients = data['PATNO'].value_counts()\n",
    "multiple_visits = duplicate_patients[duplicate_patients > 1]\n",
    "\n",
    "# Display patients with multiple visits\n",
    "if not multiple_visits.empty:\n",
    "    print(\"Patients with multiple visits:\")\n",
    "    print(multiple_visits)\n",
    "else:\n",
    "    print(\"No patients with multiple visits found.\")"
   ]
  }
 ],
 "metadata": {
  "kernelspec": {
   "display_name": "venv",
   "language": "python",
   "name": "python3"
  },
  "language_info": {
   "codemirror_mode": {
    "name": "ipython",
    "version": 3
   },
   "file_extension": ".py",
   "mimetype": "text/x-python",
   "name": "python",
   "nbconvert_exporter": "python",
   "pygments_lexer": "ipython3",
   "version": "3.11.11"
  }
 },
 "nbformat": 4,
 "nbformat_minor": 2
}
