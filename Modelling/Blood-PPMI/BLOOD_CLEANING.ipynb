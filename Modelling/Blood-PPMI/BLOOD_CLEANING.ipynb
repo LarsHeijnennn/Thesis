{
 "cells": [
  {
   "cell_type": "code",
   "execution_count": 1,
   "id": "e4b62a2e",
   "metadata": {},
   "outputs": [],
   "source": [
    "import pandas as pd"
   ]
  },
  {
   "cell_type": "code",
   "execution_count": 13,
   "id": "f7b895a1",
   "metadata": {},
   "outputs": [
    {
     "data": {
      "text/html": [
       "<div>\n",
       "<style scoped>\n",
       "    .dataframe tbody tr th:only-of-type {\n",
       "        vertical-align: middle;\n",
       "    }\n",
       "\n",
       "    .dataframe tbody tr th {\n",
       "        vertical-align: top;\n",
       "    }\n",
       "\n",
       "    .dataframe thead th {\n",
       "        text-align: right;\n",
       "    }\n",
       "</style>\n",
       "<table border=\"1\" class=\"dataframe\">\n",
       "  <thead>\n",
       "    <tr style=\"text-align: right;\">\n",
       "      <th></th>\n",
       "      <th>PATNO</th>\n",
       "      <th>SEX</th>\n",
       "      <th>COHORT</th>\n",
       "      <th>CLINICAL_EVENT</th>\n",
       "      <th>TYPE</th>\n",
       "      <th>TESTNAME</th>\n",
       "      <th>TESTVALUE</th>\n",
       "      <th>UNITS</th>\n",
       "      <th>RUNDATE</th>\n",
       "      <th>PROJECTID</th>\n",
       "      <th>PI_NAME</th>\n",
       "      <th>PI_INSTITUTION</th>\n",
       "      <th>update_stamp</th>\n",
       "    </tr>\n",
       "  </thead>\n",
       "  <tbody>\n",
       "    <tr>\n",
       "      <th>0</th>\n",
       "      <td>3400</td>\n",
       "      <td>Female</td>\n",
       "      <td>PD</td>\n",
       "      <td>SC</td>\n",
       "      <td>DNA</td>\n",
       "      <td>ApoE Genotype</td>\n",
       "      <td>e3/e3</td>\n",
       "      <td>NaN</td>\n",
       "      <td>2012-09-27</td>\n",
       "      <td>104</td>\n",
       "      <td>Andrew Singleton</td>\n",
       "      <td>National Institutes of Aging</td>\n",
       "      <td>2014-11-03 11:58:57.0</td>\n",
       "    </tr>\n",
       "    <tr>\n",
       "      <th>1</th>\n",
       "      <td>3401</td>\n",
       "      <td>Female</td>\n",
       "      <td>Control</td>\n",
       "      <td>SC</td>\n",
       "      <td>DNA</td>\n",
       "      <td>ApoE Genotype</td>\n",
       "      <td>e3/e3</td>\n",
       "      <td>NaN</td>\n",
       "      <td>2012-09-27</td>\n",
       "      <td>104</td>\n",
       "      <td>Andrew Singleton</td>\n",
       "      <td>National Institutes of Aging</td>\n",
       "      <td>2014-11-03 11:58:57.0</td>\n",
       "    </tr>\n",
       "    <tr>\n",
       "      <th>2</th>\n",
       "      <td>3402</td>\n",
       "      <td>Male</td>\n",
       "      <td>SWEDD</td>\n",
       "      <td>SC</td>\n",
       "      <td>DNA</td>\n",
       "      <td>ApoE Genotype</td>\n",
       "      <td>e3/e3</td>\n",
       "      <td>NaN</td>\n",
       "      <td>2012-09-27</td>\n",
       "      <td>104</td>\n",
       "      <td>Andrew Singleton</td>\n",
       "      <td>National Institutes of Aging</td>\n",
       "      <td>2014-11-03 11:58:57.0</td>\n",
       "    </tr>\n",
       "    <tr>\n",
       "      <th>3</th>\n",
       "      <td>3403</td>\n",
       "      <td>Male</td>\n",
       "      <td>PD</td>\n",
       "      <td>SC</td>\n",
       "      <td>DNA</td>\n",
       "      <td>ApoE Genotype</td>\n",
       "      <td>e3/e2</td>\n",
       "      <td>NaN</td>\n",
       "      <td>2012-09-27</td>\n",
       "      <td>104</td>\n",
       "      <td>Andrew Singleton</td>\n",
       "      <td>National Institutes of Aging</td>\n",
       "      <td>2014-11-03 11:58:57.0</td>\n",
       "    </tr>\n",
       "    <tr>\n",
       "      <th>4</th>\n",
       "      <td>3404</td>\n",
       "      <td>Female</td>\n",
       "      <td>Control</td>\n",
       "      <td>SC</td>\n",
       "      <td>DNA</td>\n",
       "      <td>ApoE Genotype</td>\n",
       "      <td>e4/e3</td>\n",
       "      <td>NaN</td>\n",
       "      <td>2012-09-27</td>\n",
       "      <td>104</td>\n",
       "      <td>Andrew Singleton</td>\n",
       "      <td>National Institutes of Aging</td>\n",
       "      <td>2014-11-03 11:58:57.0</td>\n",
       "    </tr>\n",
       "  </tbody>\n",
       "</table>\n",
       "</div>"
      ],
      "text/plain": [
       "   PATNO     SEX   COHORT CLINICAL_EVENT TYPE       TESTNAME TESTVALUE UNITS  \\\n",
       "0   3400  Female       PD             SC  DNA  ApoE Genotype     e3/e3   NaN   \n",
       "1   3401  Female  Control             SC  DNA  ApoE Genotype     e3/e3   NaN   \n",
       "2   3402    Male    SWEDD             SC  DNA  ApoE Genotype     e3/e3   NaN   \n",
       "3   3403    Male       PD             SC  DNA  ApoE Genotype     e3/e2   NaN   \n",
       "4   3404  Female  Control             SC  DNA  ApoE Genotype     e4/e3   NaN   \n",
       "\n",
       "      RUNDATE  PROJECTID           PI_NAME                PI_INSTITUTION  \\\n",
       "0  2012-09-27        104  Andrew Singleton  National Institutes of Aging   \n",
       "1  2012-09-27        104  Andrew Singleton  National Institutes of Aging   \n",
       "2  2012-09-27        104  Andrew Singleton  National Institutes of Aging   \n",
       "3  2012-09-27        104  Andrew Singleton  National Institutes of Aging   \n",
       "4  2012-09-27        104  Andrew Singleton  National Institutes of Aging   \n",
       "\n",
       "            update_stamp  \n",
       "0  2014-11-03 11:58:57.0  \n",
       "1  2014-11-03 11:58:57.0  \n",
       "2  2014-11-03 11:58:57.0  \n",
       "3  2014-11-03 11:58:57.0  \n",
       "4  2014-11-03 11:58:57.0  "
      ]
     },
     "execution_count": 13,
     "metadata": {},
     "output_type": "execute_result"
    }
   ],
   "source": [
    "blood_data = pd.read_csv('/Users/larsheijnen/Thesis/data/blood/Current_Biospecimen_Analysis_Results_29Mar2025.csv',low_memory=False)\n",
    "blood_data.head()"
   ]
  },
  {
   "cell_type": "code",
   "execution_count": 16,
   "id": "b1458c72",
   "metadata": {},
   "outputs": [
    {
     "name": "stdout",
     "output_type": "stream",
     "text": [
      "Original head:\n",
      "   PATNO     SEX   COHORT CLINICAL_EVENT TYPE       TESTNAME TESTVALUE UNITS  \\\n",
      "0   3400  Female       PD             SC  DNA  ApoE Genotype     e3/e3   NaN   \n",
      "1   3401  Female  Control             SC  DNA  ApoE Genotype     e3/e3   NaN   \n",
      "2   3402    Male    SWEDD             SC  DNA  ApoE Genotype     e3/e3   NaN   \n",
      "3   3403    Male       PD             SC  DNA  ApoE Genotype     e3/e2   NaN   \n",
      "4   3404  Female  Control             SC  DNA  ApoE Genotype     e4/e3   NaN   \n",
      "\n",
      "      RUNDATE  PROJECTID           PI_NAME                PI_INSTITUTION  \\\n",
      "0  2012-09-27        104  Andrew Singleton  National Institutes of Aging   \n",
      "1  2012-09-27        104  Andrew Singleton  National Institutes of Aging   \n",
      "2  2012-09-27        104  Andrew Singleton  National Institutes of Aging   \n",
      "3  2012-09-27        104  Andrew Singleton  National Institutes of Aging   \n",
      "4  2012-09-27        104  Andrew Singleton  National Institutes of Aging   \n",
      "\n",
      "            update_stamp  \n",
      "0  2014-11-03 11:58:57.0  \n",
      "1  2014-11-03 11:58:57.0  \n",
      "2  2014-11-03 11:58:57.0  \n",
      "3  2014-11-03 11:58:57.0  \n",
      "4  2014-11-03 11:58:57.0  \n",
      "\n",
      "Data types before conversion:\n",
      "PATNO              int64\n",
      "SEX               object\n",
      "COHORT            object\n",
      "CLINICAL_EVENT    object\n",
      "TYPE              object\n",
      "TESTNAME          object\n",
      "TESTVALUE         object\n",
      "UNITS             object\n",
      "RUNDATE           object\n",
      "PROJECTID          int64\n",
      "PI_NAME           object\n",
      "PI_INSTITUTION    object\n",
      "update_stamp      object\n",
      "dtype: object\n",
      "\n",
      "Number of non-null values in RUNDATE before conversion: 955272\n",
      "Total rows: 955272\n"
     ]
    }
   ],
   "source": [
    "print(\"Original head:\")\n",
    "print(blood_data.head())\n",
    "print(\"\\nData types before conversion:\")\n",
    "print(blood_data.dtypes)\n",
    "print(f\"\\nNumber of non-null values in RUNDATE before conversion: {blood_data['RUNDATE'].notna().sum()}\")\n",
    "print(f\"Total rows: {len(blood_data)}\")"
   ]
  },
  {
   "cell_type": "code",
   "execution_count": 22,
   "id": "b63a2e27",
   "metadata": {},
   "outputs": [],
   "source": [
    "blood_data['RUNDATE'] = pd.to_datetime(blood_data['RUNDATE'], errors='coerce')"
   ]
  },
  {
   "cell_type": "code",
   "execution_count": 23,
   "id": "46640769",
   "metadata": {},
   "outputs": [],
   "source": [
    "blood_data.to_csv('/Users/larsheijnen/Thesis/data/blood/BLOOD_DATE_FORMATTED.csv', index=False)"
   ]
  },
  {
   "cell_type": "code",
   "execution_count": 24,
   "id": "14c604a1",
   "metadata": {},
   "outputs": [
    {
     "name": "stdout",
     "output_type": "stream",
     "text": [
      "['DNA' 'miRNA' 'Plasma' 'Serum' 'RNA' 'Cerebrospinal Fluid' 'Cell Line'\n",
      " 'Whole Blood' 'Urine' 'Tissue - Not Specified' 'PBMC']\n"
     ]
    }
   ],
   "source": [
    "print(blood_data['TYPE'].unique())"
   ]
  },
  {
   "cell_type": "code",
   "execution_count": 27,
   "id": "ec153362",
   "metadata": {},
   "outputs": [
    {
     "name": "stdout",
     "output_type": "stream",
     "text": [
      "['CSF Alpha-synuclein' 'ABeta 1-42' 'pTau' 'MTDNA_DELETION' 'GFAP' 'IL-6'\n",
      " 'S100' 'NFL' 'sTREM2' 'YKL40']\n"
     ]
    }
   ],
   "source": [
    "blood_filtered_data_types = blood_data[blood_data['TYPE'] == 'Cerebrospinal Fluid']\n",
    "blood_filtered_data_types = blood_filtered_data_types[blood_filtered_data_types['TESTNAME'].str.contains('Alpha-synuclein|pTau|ABeta 1-42|NFL|MTDNA_DELETION|IL-6|sTREM2|YKL40|GFAP|S100', case=False, na=False)]\n",
    "print(blood_filtered_data_types['TESTNAME'].unique())"
   ]
  },
  {
   "cell_type": "code",
   "execution_count": 28,
   "id": "be957dc2",
   "metadata": {},
   "outputs": [],
   "source": [
    "blood_data.to_csv('/Users/larsheijnen/Thesis/data/blood/BLOOD_DATE_FORMATTED_CSF_FILTERED.csv', index=False)"
   ]
  }
 ],
 "metadata": {
  "kernelspec": {
   "display_name": "venv",
   "language": "python",
   "name": "python3"
  },
  "language_info": {
   "codemirror_mode": {
    "name": "ipython",
    "version": 3
   },
   "file_extension": ".py",
   "mimetype": "text/x-python",
   "name": "python",
   "nbconvert_exporter": "python",
   "pygments_lexer": "ipython3",
   "version": "3.11.11"
  }
 },
 "nbformat": 4,
 "nbformat_minor": 5
}
