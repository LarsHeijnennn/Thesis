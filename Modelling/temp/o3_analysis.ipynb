{
 "cells": [
  {
   "cell_type": "markdown",
   "id": "c1c5da13",
   "metadata": {},
   "source": [
    "# Motor progression in PPMI – MDS‑UPDRS Part III\n",
    "---\n",
    "**Run date:** {{ 2025‑05‑05 }}  \n",
    "**PPMI data:** {{ data freeze 2025‑03‑21 }}  \n",
    "**Commit:** {{ abc1234 }}\n",
    "\n",
    "## Objectives\n",
    "1. Quantify baseline group differences (PD vs HC).\n",
    "2. Estimate individual‑level progression rates (random‑slope mixed model).\n",
    "3. Identify the most influential motor items via factor analysis & SHAP.\n"
   ]
  },
  {
   "cell_type": "code",
   "execution_count": 1,
   "id": "bec47aa8",
   "metadata": {},
   "outputs": [],
   "source": [
    "# ⬛ Cell 1 – Config & imports (only the CONFIG block changed)\n",
    "# ───────────────────────────────────────────────────────────\n",
    "import pathlib, warnings, datetime, json, re\n",
    "import pandas as pd, numpy as np\n",
    "import matplotlib.pyplot as plt\n",
    "import seaborn as sns\n",
    "import missingno as msno\n",
    "from factor_analyzer import FactorAnalyzer\n",
    "import statsmodels.formula.api as smf\n",
    "from statsmodels.stats.anova import anova_lm\n",
    "from sklearn.ensemble import GradientBoostingClassifier\n",
    "from sklearn.model_selection import StratifiedKFold, cross_val_score\n",
    "import shap\n",
    "\n",
    "warnings.filterwarnings(\"ignore\")\n",
    "plt.rcParams[\"figure.dpi\"] = 120\n",
    "\n",
    "CONFIG = {\n",
    "    \"data_path\" : pathlib.Path(\"/Users/larsheijnen/Thesis/data/motor/MDS-UPDRS_Part_III_21Mar2025.csv\"),\n",
    "    \"id_col\"    : \"PATNO\",\n",
    "    \"time_col\"  : \"EVENT_ID\",\n",
    "    \"group_col\" : \"COHORT\",\n",
    "    # Leave score_cols =None – we will auto‑detect them in Cell 2a\n",
    "    \"score_cols\": None,\n",
    "    # Regex pattern for Part III item columns (edit to fit your header names)\n",
    "    \"score_pattern\": r\"^(NP3_|P3_)\\d+$\",\n",
    "    \"min_items_per_visit\": 25,\n",
    "}"
   ]
  },
  {
   "cell_type": "code",
   "execution_count": 2,
   "id": "b2600f9d",
   "metadata": {},
   "outputs": [
    {
     "name": "stdout",
     "output_type": "stream",
     "text": [
      "32,346 rows × 63 columns loaded\n"
     ]
    },
    {
     "ename": "AssertionError",
     "evalue": "No columns matched CONFIG['score_pattern']; tweak the regex.",
     "output_type": "error",
     "traceback": [
      "\u001b[31m---------------------------------------------------------------------------\u001b[39m",
      "\u001b[31mAssertionError\u001b[39m                            Traceback (most recent call last)",
      "\u001b[36mCell\u001b[39m\u001b[36m \u001b[39m\u001b[32mIn[2]\u001b[39m\u001b[32m, line 8\u001b[39m\n\u001b[32m      6\u001b[39m \u001b[38;5;66;03m# Identify columns whose names match the regex pattern\u001b[39;00m\n\u001b[32m      7\u001b[39m item_cols = [c \u001b[38;5;28;01mfor\u001b[39;00m c \u001b[38;5;129;01min\u001b[39;00m df_raw.columns \u001b[38;5;28;01mif\u001b[39;00m re.match(CONFIG[\u001b[33m\"\u001b[39m\u001b[33mscore_pattern\u001b[39m\u001b[33m\"\u001b[39m], c)]\n\u001b[32m----> \u001b[39m\u001b[32m8\u001b[39m \u001b[38;5;28;01massert\u001b[39;00m item_cols, \u001b[33m\"\u001b[39m\u001b[33mNo columns matched CONFIG[\u001b[39m\u001b[33m'\u001b[39m\u001b[33mscore_pattern\u001b[39m\u001b[33m'\u001b[39m\u001b[33m]; tweak the regex.\u001b[39m\u001b[33m\"\u001b[39m\n\u001b[32m      9\u001b[39m CONFIG[\u001b[33m\"\u001b[39m\u001b[33mscore_cols\u001b[39m\u001b[33m\"\u001b[39m] = item_cols\n\u001b[32m     10\u001b[39m \u001b[38;5;28mprint\u001b[39m(\u001b[33mf\u001b[39m\u001b[33m\"\u001b[39m\u001b[33mDetected \u001b[39m\u001b[38;5;132;01m{\u001b[39;00m\u001b[38;5;28mlen\u001b[39m(item_cols)\u001b[38;5;132;01m}\u001b[39;00m\u001b[33m Part III item columns.\u001b[39m\u001b[33m\"\u001b[39m)\n",
      "\u001b[31mAssertionError\u001b[39m: No columns matched CONFIG['score_pattern']; tweak the regex."
     ]
    }
   ],
   "source": [
    "# ⬛ Cell 2a – Auto‑detect Part III item columns\n",
    "# ─────────────────────────────────────────────\n",
    "df_raw = pd.read_csv(CONFIG[\"data_path\"])\n",
    "print(f\"{df_raw.shape[0]:,} rows × {df_raw.shape[1]} columns loaded\")\n",
    "\n",
    "# Identify columns whose names match the regex pattern\n",
    "item_cols = [c for c in df_raw.columns if re.match(CONFIG[\"score_pattern\"], c)]\n",
    "assert item_cols, \"No columns matched CONFIG['score_pattern']; tweak the regex.\"\n",
    "CONFIG[\"score_cols\"] = item_cols\n",
    "print(f\"Detected {len(item_cols)} Part III item columns.\")"
   ]
  },
  {
   "cell_type": "code",
   "execution_count": null,
   "id": "b4b1c9a0",
   "metadata": {},
   "outputs": [],
   "source": [
    "# Cell 3 – Data overview\n",
    "# ──────────────────────\n",
    "display(df.head())\n",
    "\n",
    "print(\"\\nUnique subjects :\", df[CONFIG[\"id_col\"]].nunique())\n",
    "print(\"Visits / subject:\", df.groupby(CONFIG[\"id_col\"])[CONFIG[\"time_col\"]].nunique().describe().round(2))\n",
    "\n",
    "# Simple data dictionary\n",
    "ddict = (\n",
    "    df.dtypes.to_frame(\"dtype\")\n",
    "      .assign(n_missing=df.isna().sum(),\n",
    "              pct_missing=lambda d: d[\"n_missing\"].div(len(df)).round(3))\n",
    ")\n",
    "display(ddict.head(15))"
   ]
  },
  {
   "cell_type": "code",
   "execution_count": null,
   "id": "3dd34067",
   "metadata": {},
   "outputs": [],
   "source": [
    "# Cell 4 – Missingness visualisation\n",
    "# ──────────────────────────────────\n",
    "msno.matrix(df[CONFIG[\"score_cols\"]], figsize=(9,4))\n",
    "plt.title(\"Missingness pattern – MDS‑UPDRS Part III items\")\n",
    "plt.show()"
   ]
  },
  {
   "cell_type": "code",
   "execution_count": null,
   "id": "3ee7ab66",
   "metadata": {},
   "outputs": [],
   "source": [
    "# Cell 5 – Data cleaning & helpers\n",
    "# ────────────────────────────────\n",
    "def clean_part3(df: pd.DataFrame, cfg: dict) -> pd.DataFrame:\n",
    "    \"\"\"Keep valid score range, drop visits with excessive missingness, cast dtypes.\"\"\"\n",
    "    score_df = df.copy()\n",
    "    # Clamp impossible values\n",
    "    for col in cfg[\"score_cols\"]:\n",
    "        score_df.loc[(score_df[col] < 0) | (score_df[col] > 4), col] = np.nan\n",
    "    # Drop visits w/ too many NaNs\n",
    "    mask = score_df[cfg[\"score_cols\"]].isna().sum(axis=1) <= (34 - cfg[\"min_items_per_visit\"])\n",
    "    score_df = score_df.loc[mask].reset_index(drop=True)\n",
    "    return score_df\n",
    "\n",
    "df = clean_part3(df, CONFIG)\n",
    "print(\"After cleaning:\", df.shape)"
   ]
  }
 ],
 "metadata": {
  "kernelspec": {
   "display_name": "venv",
   "language": "python",
   "name": "python3"
  },
  "language_info": {
   "codemirror_mode": {
    "name": "ipython",
    "version": 3
   },
   "file_extension": ".py",
   "mimetype": "text/x-python",
   "name": "python",
   "nbconvert_exporter": "python",
   "pygments_lexer": "ipython3",
   "version": "3.11.11"
  }
 },
 "nbformat": 4,
 "nbformat_minor": 5
}
