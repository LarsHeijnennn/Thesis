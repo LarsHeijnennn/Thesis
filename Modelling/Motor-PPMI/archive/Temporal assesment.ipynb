{
 "cells": [
  {
   "cell_type": "markdown",
   "id": "df192e6d",
   "metadata": {},
   "source": [
    "# Import Libraries\n",
    "Import pandas for data manipulation and matplotlib.pyplot for plotting."
   ]
  },
  {
   "cell_type": "code",
   "execution_count": 1,
   "id": "603cef66",
   "metadata": {},
   "outputs": [],
   "source": [
    "import pandas as pd\n",
    "import matplotlib.pyplot as plt\n",
    "import matplotlib.dates as mdates"
   ]
  },
  {
   "cell_type": "markdown",
   "id": "9befac24",
   "metadata": {},
   "source": [
    "# Load Data\n",
    "Load the 'motor_data' and 'blood_data' datasets from their respective CSV files."
   ]
  },
  {
   "cell_type": "code",
   "execution_count": 2,
   "id": "2a7acdf3",
   "metadata": {},
   "outputs": [
    {
     "name": "stdout",
     "output_type": "stream",
     "text": [
      "Motor data loaded:\n"
     ]
    },
    {
     "data": {
      "text/html": [
       "<div>\n",
       "<style scoped>\n",
       "    .dataframe tbody tr th:only-of-type {\n",
       "        vertical-align: middle;\n",
       "    }\n",
       "\n",
       "    .dataframe tbody tr th {\n",
       "        vertical-align: top;\n",
       "    }\n",
       "\n",
       "    .dataframe thead th {\n",
       "        text-align: right;\n",
       "    }\n",
       "</style>\n",
       "<table border=\"1\" class=\"dataframe\">\n",
       "  <thead>\n",
       "    <tr style=\"text-align: right;\">\n",
       "      <th></th>\n",
       "      <th>REC_ID</th>\n",
       "      <th>PATNO</th>\n",
       "      <th>EVENT_ID</th>\n",
       "      <th>PAG_NAME</th>\n",
       "      <th>INFODT</th>\n",
       "      <th>PDTRTMNT</th>\n",
       "      <th>PDSTATE</th>\n",
       "      <th>HRPOSTMED</th>\n",
       "      <th>HRDBSON</th>\n",
       "      <th>HRDBSOFF</th>\n",
       "      <th>...</th>\n",
       "      <th>ONNORSN</th>\n",
       "      <th>HIFUYN</th>\n",
       "      <th>DBSONTM</th>\n",
       "      <th>PDMEDDT</th>\n",
       "      <th>PDMEDTM</th>\n",
       "      <th>EXAMDT</th>\n",
       "      <th>EXAMTM</th>\n",
       "      <th>NP3TOT</th>\n",
       "      <th>ORIG_ENTRY</th>\n",
       "      <th>LAST_UPDATE</th>\n",
       "    </tr>\n",
       "  </thead>\n",
       "  <tbody>\n",
       "    <tr>\n",
       "      <th>0</th>\n",
       "      <td>272451901</td>\n",
       "      <td>3000</td>\n",
       "      <td>BL</td>\n",
       "      <td>NUPDRS3</td>\n",
       "      <td>2011-02-01</td>\n",
       "      <td>NaN</td>\n",
       "      <td>NaN</td>\n",
       "      <td>NaN</td>\n",
       "      <td>NaN</td>\n",
       "      <td>NaN</td>\n",
       "      <td>...</td>\n",
       "      <td>NaN</td>\n",
       "      <td>NaN</td>\n",
       "      <td>NaN</td>\n",
       "      <td>NaN</td>\n",
       "      <td>NaN</td>\n",
       "      <td>2011-02-01</td>\n",
       "      <td>13:17:00</td>\n",
       "      <td>4.0</td>\n",
       "      <td>2011-02-01</td>\n",
       "      <td>2020-06-25 16:02:19.0</td>\n",
       "    </tr>\n",
       "    <tr>\n",
       "      <th>1</th>\n",
       "      <td>338703101</td>\n",
       "      <td>3000</td>\n",
       "      <td>V04</td>\n",
       "      <td>NUPDRS3</td>\n",
       "      <td>2012-03-01</td>\n",
       "      <td>NaN</td>\n",
       "      <td>NaN</td>\n",
       "      <td>NaN</td>\n",
       "      <td>NaN</td>\n",
       "      <td>NaN</td>\n",
       "      <td>...</td>\n",
       "      <td>NaN</td>\n",
       "      <td>NaN</td>\n",
       "      <td>NaN</td>\n",
       "      <td>NaN</td>\n",
       "      <td>NaN</td>\n",
       "      <td>2012-03-01</td>\n",
       "      <td>13:47:00</td>\n",
       "      <td>1.0</td>\n",
       "      <td>2012-03-01</td>\n",
       "      <td>2020-06-25 16:02:22.0</td>\n",
       "    </tr>\n",
       "    <tr>\n",
       "      <th>2</th>\n",
       "      <td>385009801</td>\n",
       "      <td>3000</td>\n",
       "      <td>V06</td>\n",
       "      <td>NUPDRS3</td>\n",
       "      <td>2013-02-01</td>\n",
       "      <td>NaN</td>\n",
       "      <td>NaN</td>\n",
       "      <td>NaN</td>\n",
       "      <td>NaN</td>\n",
       "      <td>NaN</td>\n",
       "      <td>...</td>\n",
       "      <td>NaN</td>\n",
       "      <td>NaN</td>\n",
       "      <td>NaN</td>\n",
       "      <td>NaN</td>\n",
       "      <td>NaN</td>\n",
       "      <td>2013-02-01</td>\n",
       "      <td>12:22:00</td>\n",
       "      <td>4.0</td>\n",
       "      <td>2013-02-01</td>\n",
       "      <td>2020-06-25 16:02:22.0</td>\n",
       "    </tr>\n",
       "  </tbody>\n",
       "</table>\n",
       "<p>3 rows × 27 columns</p>\n",
       "</div>"
      ],
      "text/plain": [
       "      REC_ID  PATNO EVENT_ID PAG_NAME      INFODT  PDTRTMNT PDSTATE  \\\n",
       "0  272451901   3000       BL  NUPDRS3  2011-02-01       NaN     NaN   \n",
       "1  338703101   3000      V04  NUPDRS3  2012-03-01       NaN     NaN   \n",
       "2  385009801   3000      V06  NUPDRS3  2013-02-01       NaN     NaN   \n",
       "\n",
       "   HRPOSTMED  HRDBSON  HRDBSOFF  ...  ONNORSN  HIFUYN  DBSONTM  PDMEDDT  \\\n",
       "0        NaN      NaN       NaN  ...      NaN     NaN      NaN      NaN   \n",
       "1        NaN      NaN       NaN  ...      NaN     NaN      NaN      NaN   \n",
       "2        NaN      NaN       NaN  ...      NaN     NaN      NaN      NaN   \n",
       "\n",
       "   PDMEDTM      EXAMDT    EXAMTM  NP3TOT  ORIG_ENTRY            LAST_UPDATE  \n",
       "0      NaN  2011-02-01  13:17:00     4.0  2011-02-01  2020-06-25 16:02:19.0  \n",
       "1      NaN  2012-03-01  13:47:00     1.0  2012-03-01  2020-06-25 16:02:22.0  \n",
       "2      NaN  2013-02-01  12:22:00     4.0  2013-02-01  2020-06-25 16:02:22.0  \n",
       "\n",
       "[3 rows x 27 columns]"
      ]
     },
     "metadata": {},
     "output_type": "display_data"
    },
    {
     "name": "stdout",
     "output_type": "stream",
     "text": [
      "\n",
      "Blood data loaded:\n"
     ]
    },
    {
     "data": {
      "text/html": [
       "<div>\n",
       "<style scoped>\n",
       "    .dataframe tbody tr th:only-of-type {\n",
       "        vertical-align: middle;\n",
       "    }\n",
       "\n",
       "    .dataframe tbody tr th {\n",
       "        vertical-align: top;\n",
       "    }\n",
       "\n",
       "    .dataframe thead th {\n",
       "        text-align: right;\n",
       "    }\n",
       "</style>\n",
       "<table border=\"1\" class=\"dataframe\">\n",
       "  <thead>\n",
       "    <tr style=\"text-align: right;\">\n",
       "      <th></th>\n",
       "      <th>PATNO</th>\n",
       "      <th>SEX</th>\n",
       "      <th>COHORT</th>\n",
       "      <th>CLINICAL_EVENT</th>\n",
       "      <th>TYPE</th>\n",
       "      <th>TESTNAME</th>\n",
       "      <th>TESTVALUE</th>\n",
       "      <th>UNITS</th>\n",
       "      <th>RUNDATE</th>\n",
       "      <th>PROJECTID</th>\n",
       "      <th>PI_NAME</th>\n",
       "      <th>PI_INSTITUTION</th>\n",
       "      <th>update_stamp</th>\n",
       "    </tr>\n",
       "  </thead>\n",
       "  <tbody>\n",
       "    <tr>\n",
       "      <th>0</th>\n",
       "      <td>3000</td>\n",
       "      <td>Female</td>\n",
       "      <td>Control</td>\n",
       "      <td>V04</td>\n",
       "      <td>Cerebrospinal Fluid</td>\n",
       "      <td>ABeta 1-42</td>\n",
       "      <td>1060</td>\n",
       "      <td>pg/mL</td>\n",
       "      <td>2017-06-27</td>\n",
       "      <td>125</td>\n",
       "      <td>Les Shaw</td>\n",
       "      <td>University of Pennsylvania</td>\n",
       "      <td>2017-10-20 09:04:05.0</td>\n",
       "    </tr>\n",
       "    <tr>\n",
       "      <th>1</th>\n",
       "      <td>3000</td>\n",
       "      <td>Female</td>\n",
       "      <td>Control</td>\n",
       "      <td>BL</td>\n",
       "      <td>Cerebrospinal Fluid</td>\n",
       "      <td>CSF Alpha-synuclein</td>\n",
       "      <td>1798.9</td>\n",
       "      <td>pg/ml</td>\n",
       "      <td>2016-10-11</td>\n",
       "      <td>124</td>\n",
       "      <td>Peggy Taylor</td>\n",
       "      <td>Biolegend</td>\n",
       "      <td>2017-04-03 08:50:27.0</td>\n",
       "    </tr>\n",
       "    <tr>\n",
       "      <th>2</th>\n",
       "      <td>3000</td>\n",
       "      <td>Female</td>\n",
       "      <td>Control</td>\n",
       "      <td>V08</td>\n",
       "      <td>Cerebrospinal Fluid</td>\n",
       "      <td>pTau</td>\n",
       "      <td>21.15</td>\n",
       "      <td>pg/mL</td>\n",
       "      <td>2017-06-27</td>\n",
       "      <td>125</td>\n",
       "      <td>Les Shaw</td>\n",
       "      <td>University of Pennsylvania</td>\n",
       "      <td>2017-10-20 09:04:05.0</td>\n",
       "    </tr>\n",
       "  </tbody>\n",
       "</table>\n",
       "</div>"
      ],
      "text/plain": [
       "   PATNO     SEX   COHORT CLINICAL_EVENT                 TYPE  \\\n",
       "0   3000  Female  Control            V04  Cerebrospinal Fluid   \n",
       "1   3000  Female  Control             BL  Cerebrospinal Fluid   \n",
       "2   3000  Female  Control            V08  Cerebrospinal Fluid   \n",
       "\n",
       "              TESTNAME TESTVALUE  UNITS     RUNDATE  PROJECTID       PI_NAME  \\\n",
       "0           ABeta 1-42      1060  pg/mL  2017-06-27        125      Les Shaw   \n",
       "1  CSF Alpha-synuclein    1798.9  pg/ml  2016-10-11        124  Peggy Taylor   \n",
       "2                 pTau     21.15  pg/mL  2017-06-27        125      Les Shaw   \n",
       "\n",
       "               PI_INSTITUTION           update_stamp  \n",
       "0  University of Pennsylvania  2017-10-20 09:04:05.0  \n",
       "1                   Biolegend  2017-04-03 08:50:27.0  \n",
       "2  University of Pennsylvania  2017-10-20 09:04:05.0  "
      ]
     },
     "metadata": {},
     "output_type": "display_data"
    }
   ],
   "source": [
    "# Load the datasets\n",
    "motor_data_path = '/Users/larsheijnen/Thesis/data/MDS-UPDRS_Patient_Data_only_date_formatted.csv'\n",
    "blood_data_path = '/Users/larsheijnen/Thesis/data/blood/BLOOD_DATE_FORMATTED_CSF_FILTERED.csv'\n",
    "\n",
    "motor_data = pd.read_csv(motor_data_path)\n",
    "blood_data = pd.read_csv(blood_data_path, low_memory=False)\n",
    "\n",
    "print(\"Motor data loaded:\")\n",
    "display(motor_data.head(3))\n",
    "print(\"\\nBlood data loaded:\")\n",
    "display(blood_data.head(3))"
   ]
  },
  {
   "cell_type": "markdown",
   "id": "6eb1e452",
   "metadata": {},
   "source": [
    "# Convert Date Columns\n",
    "Ensure the 'INFODT' column in motor_data and the 'RUNDATE' column in blood_data are converted to datetime objects using pd.to_datetime. Handle potential errors during conversion."
   ]
  },
  {
   "cell_type": "code",
   "execution_count": 3,
   "id": "7c6f369c",
   "metadata": {},
   "outputs": [
    {
     "name": "stdout",
     "output_type": "stream",
     "text": [
      "Null dates after conversion:\n",
      "Motor data INFODT nulls: 0\n",
      "Blood data RUNDATE nulls: 0\n",
      "\n",
      "Data types after conversion:\n",
      "Motor data INFODT dtype: datetime64[ns]\n",
      "Blood data RUNDATE dtype: datetime64[ns]\n"
     ]
    }
   ],
   "source": [
    "# Convert date columns to datetime objects\n",
    "motor_data['INFODT'] = pd.to_datetime(motor_data['INFODT'], errors='coerce')\n",
    "blood_data['RUNDATE'] = pd.to_datetime(blood_data['RUNDATE'], errors='coerce')\n",
    "\n",
    "# Check for any null values created during conversion\n",
    "print(\"Null dates after conversion:\")\n",
    "print(f\"Motor data INFODT nulls: {motor_data['INFODT'].isnull().sum()}\")\n",
    "print(f\"Blood data RUNDATE nulls: {blood_data['RUNDATE'].isnull().sum()}\")\n",
    "\n",
    "# Drop rows with invalid dates if necessary\n",
    "motor_data.dropna(subset=['INFODT'], inplace=True)\n",
    "blood_data.dropna(subset=['RUNDATE'], inplace=True)\n",
    "\n",
    "print(\"\\nData types after conversion:\")\n",
    "print(f\"Motor data INFODT dtype: {motor_data['INFODT'].dtype}\")\n",
    "print(f\"Blood data RUNDATE dtype: {blood_data['RUNDATE'].dtype}\")"
   ]
  },
  {
   "cell_type": "markdown",
   "id": "6209f690",
   "metadata": {},
   "source": [
    "# Calculate Temporal Ranges\n",
    "Calculate the minimum and maximum dates for both the 'INFODT' and 'RUNDATE' columns."
   ]
  },
  {
   "cell_type": "code",
   "execution_count": 4,
   "id": "f95dfec2",
   "metadata": {},
   "outputs": [
    {
     "name": "stdout",
     "output_type": "stream",
     "text": [
      "Motor data range: 2010-07-01 00:00:00 to 2025-03-01 00:00:00\n",
      "Blood data range: 2016-09-14 00:00:00 to 2021-04-16 00:00:00\n"
     ]
    }
   ],
   "source": [
    "# Calculate the temporal range for motor_data\n",
    "motor_start_date = motor_data['INFODT'].min()\n",
    "motor_end_date = motor_data['INFODT'].max()\n",
    "\n",
    "# Calculate the temporal range for blood_data\n",
    "blood_start_date = blood_data['RUNDATE'].min()\n",
    "blood_end_date = blood_data['RUNDATE'].max()\n",
    "\n",
    "print(f\"Motor data range: {motor_start_date} to {motor_end_date}\")\n",
    "print(f\"Blood data range: {blood_start_date} to {blood_end_date}\")"
   ]
  },
  {
   "cell_type": "markdown",
   "id": "ac8d7ca6",
   "metadata": {},
   "source": [
    "# Plot Temporal Ranges Side-by-Side\n",
    "Use matplotlib subplots to create two plots next to each other. Each plot will visualize the calculated temporal range (start date to end date) for one of the datasets (motor_data and blood_data)."
   ]
  },
  {
   "cell_type": "code",
   "execution_count": 6,
   "id": "5357df75",
   "metadata": {},
   "outputs": [
    {
     "data": {
      "image/png": "[encoded data removed]",
      "text/plain": [
       "<Figure size 1200x300 with 1 Axes>"
      ]
     },
     "metadata": {},
     "output_type": "display_data"
    }
   ],
   "source": [
    "# In cell with id: dc37f8d3\n",
    "# Create figure and a single axes object\n",
    "fig, ax = plt.subplots(figsize=(12, 3)) # Adjusted figure size for a single plot\n",
    "\n",
    "# --- Plot Both Ranges on the Same Axes ---\n",
    "ax.set_title('Temporal Range Comparison: Motor vs. Blood Data')\n",
    "\n",
    "# Plot Motor Data Range (slightly offset vertically for visibility)\n",
    "ax.plot([motor_start_date, motor_end_date], [1, 1], marker='|', markersize=12, linestyle='-', linewidth=3, label='Motor Data Range', color='blue')\n",
    "ax.text(motor_start_date, 1.05, motor_start_date.strftime('%Y-%m-%d'), ha='center', va='bottom', color='blue')\n",
    "ax.text(motor_end_date, 1.05, motor_end_date.strftime('%Y-%m-%d'), ha='center', va='bottom', color='blue')\n",
    "\n",
    "\n",
    "# Plot Blood Data Range (slightly offset vertically for visibility)\n",
    "ax.plot([blood_start_date, blood_end_date], [0.9, 0.9], marker='|', markersize=12, linestyle='-', linewidth=3, color='orange', label='Blood Data Range')\n",
    "ax.text(blood_start_date, 0.85, blood_start_date.strftime('%Y-%m-%d'), ha='center', va='top', color='orange')\n",
    "ax.text(blood_end_date, 0.85, blood_end_date.strftime('%Y-%m-%d'), ha='center', va='top', color='orange')\n",
    "\n",
    "\n",
    "# --- Customize the Plot ---\n",
    "ax.set_yticks([]) # Hide Y-axis ticks\n",
    "ax.set_xlabel('Date')\n",
    "ax.set_ylim(0.8, 1.2) # Adjust Y limits to keep lines separate but close\n",
    "\n",
    "# Format the x-axis to display dates nicely\n",
    "ax.xaxis.set_major_locator(mdates.AutoDateLocator(minticks=5, maxticks=10)) # Adjust number of ticks\n",
    "ax.xaxis.set_major_formatter(mdates.DateFormatter('%Y-%m-%d'))\n",
    "plt.setp(ax.xaxis.get_majorticklabels(), rotation=30, ha='right') # Rotate labels slightly\n",
    "\n",
    "# Add a legend\n",
    "ax.legend(loc='upper center', bbox_to_anchor=(0.5, -0.2), ncol=2) # Position legend below plot\n",
    "\n",
    "# Adjust layout and display the plot\n",
    "plt.tight_layout(rect=[0, 0.05, 1, 1]) # Adjust layout to prevent label overlap and make space for legend\n",
    "plt.show()"
   ]
  }
 ],
 "metadata": {
  "kernelspec": {
   "display_name": "venv",
   "language": "python",
   "name": "python3"
  },
  "language_info": {
   "codemirror_mode": {
    "name": "ipython",
    "version": 3
   },
   "file_extension": ".py",
   "mimetype": "text/x-python",
   "name": "python",
   "nbconvert_exporter": "python",
   "pygments_lexer": "ipython3",
   "version": "3.11.11"
  }
 },
 "nbformat": 4,
 "nbformat_minor": 5
}
