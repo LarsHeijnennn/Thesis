{
 "cells": [
  {
   "cell_type": "markdown",
   "id": "4895eee5",
   "metadata": {},
   "source": [
    "# Motor progression in PPMI – MDS‑UPDRS Part III  \n",
    "**Run date:** 2025-05-05   |   **PPMI data freeze:** { <add date> }   |   **Git commit:** { <hash> }\n",
    "\n",
    "## Objectives\n",
    "1. Quantify baseline group differences (PD vs HC).  \n",
    "2. Estimate individual‑level progression rates (random‑slope mixed model).  \n",
    "3. Identify the most influential motor items via factor analysis & SHAP.\n"
   ]
  },
  {
   "cell_type": "markdown",
   "id": "6ecc04ae",
   "metadata": {},
   "source": [
    "## 1  Data dictionary & cohort snapshot"
   ]
  },
  {
   "cell_type": "code",
   "execution_count": null,
   "id": "8b80c737",
   "metadata": {},
   "outputs": [],
   "source": [
    "import pathlib, warnings, datetime, re\n",
    "import pandas as pd, numpy as np\n",
    "import matplotlib.pyplot as plt\n",
    "import seaborn as sns\n",
    "import missingno as msno\n",
    "from factor_analyzer import FactorAnalyzer\n",
    "import statsmodels.formula.api as smf\n",
    "from sklearn.ensemble import GradientBoostingClassifier\n",
    "from sklearn.model_selection import StratifiedKFold, cross_val_score\n",
    "import shap\n",
    "\n",
    "warnings.filterwarnings(\"ignore\")\n",
    "plt.rcParams[\"figure.dpi\"] = 120\n",
    "\n",
    "CONFIG = {\n",
    "    \"data_path\": pathlib.Path(\"<-- your csv path -->\"),\n",
    "    \"id_col\": \"PATNO\",\n",
    "    \"time_col\": \"EVENT_ID\",\n",
    "    \"group_col\": \"COHORT\",\n",
    "    \"score_pattern\": r\"^(NP3_|P3_)?\\d+$\",   # tweak to match your columns\n",
    "    \"score_cols\": None,                      # will be auto‑detected\n",
    "    \"min_items_per_visit\": 25,\n",
    "}\n"
   ]
  },
  {
   "cell_type": "code",
   "execution_count": null,
   "id": "055b77ab",
   "metadata": {},
   "outputs": [],
   "source": [
    "# Load raw data\n",
    "df_raw = pd.read_csv(CONFIG[\"data_path\"])\n",
    "print(f\"{df_raw.shape[0]:,} rows × {df_raw.shape[1]} columns loaded\")\n",
    "\n",
    "# Auto‑detect Part III item columns\n",
    "CONFIG[\"score_cols\"] = [c for c in df_raw.columns if re.match(CONFIG[\"score_pattern\"], c)]\n",
    "assert CONFIG[\"score_cols\"], \"No Part III columns detected – update CONFIG['score_pattern'].\"\n",
    "print(f\"Detected {len(CONFIG['score_cols'])} Part III item columns\")\n",
    "\n",
    "df = df_raw.copy()\n"
   ]
  },
  {
   "cell_type": "code",
   "execution_count": null,
   "id": "bf65ed24",
   "metadata": {},
   "outputs": [],
   "source": [
    "display(df.head())\n",
    "\n",
    "ddict = (df.dtypes.to_frame(\"dtype\")\n",
    "           .assign(n_missing=df.isna().sum(),\n",
    "                   pct_missing=lambda d: d[\"n_missing\"] / len(df)))\n",
    "display(ddict.head(15))\n",
    "\n",
    "print(\"\\nUnique subjects :\", df[CONFIG[\"id_col\"]].nunique())\n",
    "print(\"Visits / subject:\", df.groupby(CONFIG[\"id_col\"])[CONFIG[\"time_col\"]].nunique().describe().round(2))\n"
   ]
  },
  {
   "cell_type": "markdown",
   "id": "088a4890",
   "metadata": {},
   "source": [
    "## 3  Cleaning & preprocessing"
   ]
  },
  {
   "cell_type": "code",
   "execution_count": null,
   "id": "49b16a77",
   "metadata": {},
   "outputs": [],
   "source": [
    "def clean_part3(df: pd.DataFrame, cfg: dict) -> pd.DataFrame:\n",
    "    \"\"\"QC clamp 0‑4, drop visits with excessive missingness, cast types.\"\"\"\n",
    "    out = df.copy()\n",
    "    for col in cfg[\"score_cols\"]:\n",
    "        out.loc[(out[col] < 0) | (out[col] > 4), col] = np.nan\n",
    "    mask = out[cfg[\"score_cols\"]].isna().sum(axis=1) <= (34 - cfg[\"min_items_per_visit\"])\n",
    "    out = out.loc[mask].reset_index(drop=True)\n",
    "    return out\n",
    "\n",
    "df = clean_part3(df, CONFIG)\n",
    "print(\"After cleaning:\", df.shape)\n"
   ]
  },
  {
   "cell_type": "markdown",
   "id": "0cd561bc",
   "metadata": {},
   "source": [
    "## 4  Missing‑data profile"
   ]
  },
  {
   "cell_type": "code",
   "execution_count": null,
   "id": "2dc300ba",
   "metadata": {},
   "outputs": [],
   "source": [
    "msno.matrix(df[CONFIG[\"score_cols\"]], figsize=(9,4))\n",
    "plt.title(\"Missingness pattern – MDS‑UPDRS Part III items\")\n",
    "plt.show()\n",
    "\n",
    "(df[CONFIG[\"score_cols\"]].isna().mean()*100).plot.bar(figsize=(10,3))\n",
    "plt.ylabel(\"% missing\"); plt.title(\"Percent missing by item\"); plt.show()\n"
   ]
  },
  {
   "cell_type": "markdown",
   "id": "04fee7bc",
   "metadata": {},
   "source": [
    "## 5  Baseline descriptive statistics"
   ]
  },
  {
   "cell_type": "code",
   "execution_count": null,
   "id": "4611a3a0",
   "metadata": {},
   "outputs": [],
   "source": [
    "# Filter baseline visit (example filter; adjust to your dataset)\n",
    "baseline = df[df[CONFIG[\"time_col\"]] == \"BL\"]\n",
    "\n",
    "sns.violinplot(data=baseline, x=CONFIG[\"group_col\"], y=\"MDS_UPDRS_III_TOTAL\")\n",
    "plt.title(\"Baseline Part III total by cohort\"); plt.show()\n",
    "\n",
    "baseline.groupby(CONFIG[\"group_col\"])[\"MDS_UPDRS_III_TOTAL\"].describe()\n"
   ]
  },
  {
   "cell_type": "markdown",
   "id": "947aff2f",
   "metadata": {},
   "source": [
    "## 6  Exploratory multivariate structure"
   ]
  },
  {
   "cell_type": "code",
   "execution_count": null,
   "id": "db7e68da",
   "metadata": {},
   "outputs": [],
   "source": [
    "corr = df[CONFIG[\"score_cols\"]].corr(method=\"spearman\")\n",
    "plt.figure(figsize=(8,7))\n",
    "sns.heatmap(corr, cmap=\"coolwarm\", vmin=-1, vmax=1, square=True)\n",
    "plt.title(\"Spearman correlations – Part III items\")\n",
    "plt.show()\n",
    "\n",
    "fa = FactorAnalyzer(n_factors=4, rotation=\"varimax\")\n",
    "fa.fit(df[CONFIG[\"score_cols\"]].fillna(0))\n",
    "loadings = pd.DataFrame(fa.loadings_,\n",
    "                        columns=[f\"Factor{i+1}\" for i in range(4)],\n",
    "                        index=CONFIG[\"score_cols\"])\n",
    "display(loadings.head(15))\n"
   ]
  },
  {
   "cell_type": "markdown",
   "id": "bfa0f7ca",
   "metadata": {},
   "source": [
    "## 7  Longitudinal visual EDA"
   ]
  },
  {
   "cell_type": "code",
   "execution_count": null,
   "id": "5917393b",
   "metadata": {},
   "outputs": [],
   "source": [
    "plt.figure(figsize=(8,5))\n",
    "sns.lineplot(data=df, x=\"VISIT_MO\", y=\"MDS_UPDRS_III_TOTAL\",\n",
    "             hue=CONFIG[\"group_col\"], estimator=\"mean\", ci=\"sd\")\n",
    "plt.title(\"Mean Part III total over time\"); plt.show()\n"
   ]
  },
  {
   "cell_type": "markdown",
   "id": "e0beb317",
   "metadata": {},
   "source": [
    "## 8  Statistical modelling"
   ]
  },
  {
   "cell_type": "code",
   "execution_count": null,
   "id": "2651c8f6",
   "metadata": {},
   "outputs": [],
   "source": [
    "df['time_months'] = df['VISIT_MO'].astype(float)\n",
    "\n",
    "model = smf.mixedlm(\n",
    "    \"MDS_UPDRS_III_TOTAL ~ time_months * C(\" + CONFIG[\"group_col\"] + \")\",\n",
    "    data=df,\n",
    "    groups=df[CONFIG[\"id_col\"]],\n",
    "    re_formula=\"~time_months\",\n",
    ")\n",
    "result = model.fit(method=\"lbfgs\")\n",
    "print(result.summary())\n"
   ]
  },
  {
   "cell_type": "markdown",
   "id": "253043e5",
   "metadata": {},
   "source": [
    "## 9  Predictive modelling (optional)"
   ]
  },
  {
   "cell_type": "code",
   "execution_count": null,
   "id": "e2febf66",
   "metadata": {},
   "outputs": [],
   "source": [
    "mask = df[CONFIG[\"group_col\"]].isin([\"PD\",\"HC\"])\n",
    "X = df.loc[mask, CONFIG[\"score_cols\"]].fillna(0)\n",
    "y = (df.loc[mask, CONFIG[\"group_col\"]] == \"PD\").astype(int)\n",
    "\n",
    "clf = GradientBoostingClassifier()\n",
    "cv = StratifiedKFold(n_splits=5, shuffle=True, random_state=0)\n",
    "print(\"CV AUC:\", cross_val_score(clf, X, y, cv=cv, scoring=\"roc_auc\").mean().round(3))\n",
    "\n",
    "clf.fit(X, y)\n",
    "explainer = shap.Explainer(clf)\n",
    "shap_values = explainer(X)\n",
    "shap.summary_plot(shap_values, X, plot_type=\"bar\")\n"
   ]
  },
  {
   "cell_type": "markdown",
   "id": "bc9b7132",
   "metadata": {},
   "source": [
    "## 10  Sensitivity & robustness checks"
   ]
  },
  {
   "cell_type": "code",
   "execution_count": null,
   "id": "d442ff1c",
   "metadata": {},
   "outputs": [],
   "source": [
    "# Example: exclude visits > 60 months and re‑fit model\n",
    "df_robust = df[df['time_months'] <= 60]\n",
    "model_r = smf.mixedlm(\n",
    "    \"MDS_UPDRS_III_TOTAL ~ time_months * C(\" + CONFIG[\"group_col\"] + \")\",\n",
    "    data=df_robust,\n",
    "    groups=df_robust[CONFIG[\"id_col\"]],\n",
    "    re_formula=\"~time_months\",\n",
    ").fit(method=\"lbfgs\")\n",
    "print(model_r.summary())\n"
   ]
  },
  {
   "cell_type": "markdown",
   "id": "562bc822",
   "metadata": {},
   "source": [
    "## 11  Key findings & clinical interpretation\n",
    "\n",
    "*Add three‑to‑five concise bullets summarising baseline differences, progression rates, and key motor items once analysis is complete.*\n"
   ]
  },
  {
   "cell_type": "markdown",
   "id": "7970b7b1",
   "metadata": {},
   "source": [
    "## 12  Reproducibility footer & appendix"
   ]
  },
  {
   "cell_type": "code",
   "execution_count": null,
   "id": "c4f9cd08",
   "metadata": {},
   "outputs": [],
   "source": [
    "import pkg_resources, platform, json\n",
    "from pathlib import Path\n",
    "import datetime as dt\n",
    "\n",
    "print(\"Notebook run:\", dt.datetime.now())\n",
    "print(\"Python      :\", platform.python_version())\n",
    "print(\"Platform    :\", platform.platform())\n",
    "\n",
    "env_file = Path('environment_freeze.txt')\n",
    "env_file.write_text('\\n'.join(sorted(f\"{d.key}=={d.version}\" for d in pkg_resources.working_set)))\n",
    "print(f\"✓ {env_file} written\")\n"
   ]
  }
 ],
 "metadata": {},
 "nbformat": 4,
 "nbformat_minor": 5
}