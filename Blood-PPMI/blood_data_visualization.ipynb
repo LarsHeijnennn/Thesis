{
 "cells": [
  {
   "cell_type": "code",
   "execution_count": 1,
   "metadata": {},
   "outputs": [
    {
     "name": "stderr",
     "output_type": "stream",
     "text": [
      "/var/folders/kw/d3zgy6jx0gl0lybbg494yl8c0000gn/T/ipykernel_30631/458398519.py:6: DtypeWarning: Columns (6,7) have mixed types. Specify dtype option on import or set low_memory=False.\n",
      "  blood_data = pd.read_csv('/Users/larsheijnen/Thesis/data/blood/Current_Biospecimen_Analysis_Results_29Mar2025.csv')\n"
     ]
    }
   ],
   "source": [
    "import pandas as pd\n",
    "import numpy as np\n",
    "import matplotlib.pyplot as plt\n",
    "import seaborn as sns\n",
    "\n",
    "blood_data = pd.read_csv('/Users/larsheijnen/Thesis/data/blood/Current_Biospecimen_Analysis_Results_29Mar2025.csv')\n",
    "motor_data = pd.read_csv('/Users/larsheijnen/Thesis/data/motor/MDS-UPDRS_Part_III_21Mar2025.csv')"
   ]
  },
  {
   "cell_type": "code",
   "execution_count": null,
   "metadata": {},
   "outputs": [
    {
     "name": "stdout",
     "output_type": "stream",
     "text": [
      "Blood data shape: (955272, 13)\n",
      "Blood data columns: ['PATNO', 'SEX', 'COHORT', 'CLINICAL_EVENT', 'TYPE', 'TESTNAME', 'TESTVALUE', 'UNITS', 'RUNDATE', 'PROJECTID']...\n",
      "Number of unique patients in blood data: 1766\n",
      "\n",
      "\n",
      "Motor data shape: (32346, 63)\n",
      "Motor data columns: ['REC_ID', 'PATNO', 'EVENT_ID', 'PAG_NAME', 'INFODT', 'PDTRTMNT', 'PDSTATE', 'HRPOSTMED', 'HRDBSON', 'HRDBSOFF']...\n",
      "Number of unique patients in motor data: 4313\n"
     ]
    }
   ],
   "source": [
    "# First, let's explore the blood dataset structure\n",
    "print(f\"Blood data shape: {data.shape}\")\n",
    "print(f\"Blood data columns: {data.columns.tolist()[:10]}...\") # Showing first 10 columns\n",
    "print(f\"Number of unique patients in blood data: {data['PATNO'].nunique() if 'PATNO' in data.columns else 'PATNO column not found'}\")\n"
   ]
  }
 ],
 "metadata": {
  "kernelspec": {
   "display_name": "venv",
   "language": "python",
   "name": "python3"
  },
  "language_info": {
   "codemirror_mode": {
    "name": "ipython",
    "version": 3
   },
   "file_extension": ".py",
   "mimetype": "text/x-python",
   "name": "python",
   "nbconvert_exporter": "python",
   "pygments_lexer": "ipython3",
   "version": "3.11.11"
  }
 },
 "nbformat": 4,
 "nbformat_minor": 2
}
