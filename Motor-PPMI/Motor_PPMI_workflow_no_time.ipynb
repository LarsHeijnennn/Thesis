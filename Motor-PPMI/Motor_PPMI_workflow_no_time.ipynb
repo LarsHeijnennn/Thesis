{
 "cells": [
  {
   "cell_type": "markdown",
   "metadata": {},
   "source": [
    "## Problem Definition and Goal Setting\n",
    "\n",
    "**Goal to achieve**: Predict PD progression (MDS-UPDRS) using motor data.\n",
    "\n",
    "**Smart Goals**:\n",
    "- **Specific**: Develop an ML model to predict the progression of PD (MDS-UPDRS) using unimodal motor data. \n",
    "- **Measurable**: Evaluate the model's performance using appropriate regression metrics such as Mean Absolute Error (MAE), Root Mean Squared Error (RMSE), and R-squared (R²). \n",
    "- **Achievable**: Use PPMI data.\n",
    "\n",
    "**Determine type of ML problem**: *Regression*; the task is to predict the continuous progression of motor symptoms over time.\n"
   ]
  },
  {
   "cell_type": "code",
   "execution_count": null,
   "metadata": {},
   "outputs": [],
   "source": [
    "import pandas as pd\n",
    "import numpy as np\n",
    "import matplotlib.pyplot as plt"
   ]
  },
  {
   "cell_type": "code",
   "execution_count": null,
   "metadata": {},
   "outputs": [],
   "source": [
    "data = pd.read_csv('/Users/larsheijnen/Thesis/data/MDS-UPDRS_Part_III_21Mar2025.csv')"
   ]
  },
  {
   "cell_type": "code",
   "execution_count": null,
   "metadata": {},
   "outputs": [],
   "source": [
    "motor_features = [\n",
    "    'PATNO', 'EVENT_ID', 'INFODT',  # Identifying information\n",
    "    \n",
    "    # MDS-UPDRS Part III scores\n",
    "    'NP3SPCH', 'NP3FACXP', \n",
    "    'NP3RIGN', 'NP3RIGRU', 'NP3RIGLU', 'NP3RIGRL', 'NP3RIGLL',  # Rigidity\n",
    "    'NP3FTAPR', 'NP3FTAPL',  # Finger tapping\n",
    "    'NP3HMOVR', 'NP3HMOVL',  # Hand movements\n",
    "    'NP3PRSPR', 'NP3PRSPL',  # Pronation-supination\n",
    "    'NP3TTAPR', 'NP3TTAPL',  # Toe tapping\n",
    "    'NP3LGAGR', 'NP3LGAGL',  # Leg agility\n",
    "    'NP3RISNG',  # Arising from chair\n",
    "    'NP3GAIT', 'NP3FRZGT',  # Gait and freezing\n",
    "    'NP3PSTBL',  # Postural stability\n",
    "    'NP3POSTR',  # Posture\n",
    "    'NP3BRADY',  # Body bradykinesia\n",
    "    'NP3PTRMR', 'NP3PTRML',  # Postural tremor\n",
    "    'NP3KTRMR', 'NP3KTRML',  # Kinetic tremor\n",
    "    'NP3RTARU', 'NP3RTALU', 'NP3RTARL', 'NP3RTALL', 'NP3RTALJ', 'NP3RTCON',  # Rest tremor\n",
    "    'NP3TOT'  # Total score\n",
    "]\n",
    "\n",
    "# Create the DataFrame with selected features (only keep columns that exist in the data)\n",
    "motor_df = data[[col for col in motor_features if col in data.columns]]\n",
    "\n",
    "# Display the first few rows to verify the contents\n",
    "print(f\"Motor assessment DataFrame shape: {motor_df.shape}\")\n",
    "motor_df.head()"
   ]
  },
  {
   "cell_type": "code",
   "execution_count": null,
   "metadata": {},
   "outputs": [],
   "source": [
    "missing_percentage = motor_df.isnull().mean() * 100\n",
    "missing_percentage_sorted = missing_percentage.sort_values(ascending=False)\n",
    "\n",
    "for column, percentage in missing_percentage_sorted.items():\n",
    "    print(f\"{column}: {percentage:.2f}% missing\")\n",
    "\n",
    "plt.figure(figsize=(14, 6))\n",
    "missing_percentage_sorted.plot(kind='bar', color='coral')\n",
    "plt.title('Percentage of Missing Values by Feature', fontsize=14)\n",
    "plt.xlabel('Features', fontsize=12)\n",
    "plt.ylabel('Missing Values (%)', fontsize=12)\n",
    "plt.xticks(rotation=90)\n",
    "plt.tight_layout()\n",
    "plt.show()"
   ]
  },
  {
   "cell_type": "markdown",
   "metadata": {},
   "source": [
    "**Interpretation**: NP3TOT is missing the most. To remove rows with NaN values."
   ]
  },
  {
   "cell_type": "code",
   "execution_count": null,
   "metadata": {},
   "outputs": [],
   "source": [
    "motor_df = motor_df.dropna(subset=['NP3TOT'])\n",
    "\n",
    "print(f\"Updated DataFrame shape: {motor_df.shape}\")\n",
    "motor_df.head()"
   ]
  },
  {
   "cell_type": "code",
   "execution_count": null,
   "metadata": {},
   "outputs": [],
   "source": [
    "missing_percentage = motor_df.isnull().mean() * 100\n",
    "missing_percentage_sorted = missing_percentage.sort_values(ascending=False)\n",
    "\n",
    "for column, percentage in missing_percentage_sorted.items():\n",
    "    print(f\"{column}: {percentage:.2f}% missing\")\n",
    "\n",
    "plt.figure(figsize=(14, 6))\n",
    "missing_percentage_sorted.plot(kind='bar', color='coral')\n",
    "plt.title('Percentage of Missing Values by Feature', fontsize=14)\n",
    "plt.xlabel('Features', fontsize=12)\n",
    "plt.ylabel('Missing Values (%)', fontsize=12)\n",
    "plt.xticks(rotation=90)\n",
    "plt.tight_layout()\n",
    "plt.show()"
   ]
  },
  {
   "cell_type": "markdown",
   "metadata": {},
   "source": [
    "**Interpretation**: After removing rows with NaN in NP3TOT, no other features have missing values left!"
   ]
  },
  {
   "cell_type": "code",
   "execution_count": null,
   "metadata": {},
   "outputs": [],
   "source": [
    "# Define a function to detect and remove outliers using the IQR method\n",
    "def remove_outliers_iqr(df, column_name):\n",
    "    Q1 = df[column_name].quantile(0.25)\n",
    "    Q3 = df[column_name].quantile(0.75)\n",
    "    IQR = Q3 - Q1\n",
    "    lower_bound = Q1 - 1.5 * IQR\n",
    "    upper_bound = Q3 + 1.5 * IQR\n",
    "    return df[(df[column_name] >= lower_bound) & (df[column_name] <= upper_bound)]\n",
    "\n",
    "# Apply the function to the 'NP3TOT' column\n",
    "motor_df_no_outliers = remove_outliers_iqr(motor_df, column)\n",
    "\n",
    "print(f\"Original DataFrame shape: {motor_df.shape}\")\n",
    "print(f\"DataFrame shape after removing outliers: {motor_df_no_outliers.shape}\")\n",
    "motor_df_no_outliers.head()"
   ]
  },
  {
   "cell_type": "markdown",
   "metadata": {},
   "source": [
    "**Interpretation**: Removing outliers removed 218 rows. "
   ]
  },
  {
   "cell_type": "code",
   "execution_count": null,
   "metadata": {},
   "outputs": [],
   "source": [
    "from sklearn.preprocessing import StandardScaler\n",
    "\n",
    "motor_df_standardized = motor_df_no_outliers.copy()\n",
    "\n",
    "# Identify columns to scale: we exclude identifiers and date fields\n",
    "columns_to_scale = [col for col in motor_df_no_outliers.columns if col not in ['PATNO', 'EVENT_ID', 'INFODT']]\n",
    "\n",
    "scaler = StandardScaler()\n",
    "motor_df_standardized[columns_to_scale] = scaler.fit_transform(motor_df_standardized[columns_to_scale])\n",
    "\n",
    "motor_df_standardized.head()"
   ]
  },
  {
   "cell_type": "code",
   "execution_count": null,
   "metadata": {},
   "outputs": [],
   "source": [
    "from scipy import stats\n",
    "import seaborn as sns\n",
    "\n",
    "# Calculate skewness for each numeric feature\n",
    "skewness = motor_df_standardized.select_dtypes(include=['float64', 'int64']).apply(lambda x: stats.skew(x))\n",
    "skewness_sorted = skewness.sort_values(ascending=False)\n",
    "\n",
    "# Display top skewed features\n",
    "print(\"Top 10 skewed features:\")\n",
    "print(skewness_sorted.head(10))\n",
    "print(\"\\nLeast skewed features:\")\n",
    "print(skewness_sorted.tail(10))\n",
    "\n",
    "# Create a figure to visualize distributions\n",
    "plt.figure(figsize=(15, 10))\n",
    "\n",
    "# Plot histogram of NP3TOT (target variable)\n",
    "plt.subplot(2, 2, 1)\n",
    "sns.histplot(motor_df_standardized['NP3TOT'], kde=True)\n",
    "plt.title(f\"Distribution of NP3TOT (Skewness: {skewness['NP3TOT']:.3f})\")\n",
    "plt.xlabel('NP3TOT Score')\n",
    "\n",
    "# Q-Q plot for NP3TOT\n",
    "plt.subplot(2, 2, 2)\n",
    "stats.probplot(motor_df_standardized['NP3TOT'], plot=plt)\n",
    "plt.title(\"Q-Q Plot of NP3TOT\")\n",
    "\n",
    "# Boxplot for NP3TOT\n",
    "plt.subplot(2, 2, 3)\n",
    "sns.boxplot(x=motor_df_standardized['NP3TOT'])\n",
    "plt.title(\"Boxplot of NP3TOT\")\n",
    "\n",
    "# Plot distribution of a highly skewed feature\n",
    "most_skewed_feature = skewness_sorted.index[0]\n",
    "plt.subplot(2, 2, 4)\n",
    "sns.histplot(motor_df_standardized[most_skewed_feature], kde=True)\n",
    "plt.title(f\"Distribution of {most_skewed_feature} (Skewness: {skewness[most_skewed_feature]:.3f})\")\n",
    "\n",
    "plt.tight_layout()\n",
    "plt.show()"
   ]
  },
  {
   "cell_type": "code",
   "execution_count": null,
   "metadata": {},
   "outputs": [],
   "source": [
    "motor_df_standardized['INFODT'] = pd.to_datetime(motor_df_standardized['INFODT'])\n",
    "motor_df_standardized = motor_df_standardized.sort_values(['PATNO', 'INFODT'])\n",
    "motor_df_standardized['days_since_baseline'] = motor_df_standardized.groupby('PATNO')['INFODT'] \\\n",
    "    .transform(lambda x: (x - x.min()).dt.days)\n",
    "\n",
    "motor_df_standardized.head()"
   ]
  },
  {
   "cell_type": "code",
   "execution_count": null,
   "metadata": {},
   "outputs": [],
   "source": [
    "X = motor_df_standardized.drop(['NP3TOT', 'PATNO', 'EVENT_ID', 'INFODT', 'days_since_baseline'], axis=1)\n",
    "y = motor_df_standardized['NP3TOT']\n",
    "\n",
    "motor_df_standardized.to_csv('motor_df_standardized.csv', index=False)"
   ]
  },
  {
   "cell_type": "code",
   "execution_count": null,
   "metadata": {},
   "outputs": [],
   "source": [
    "from sklearn.model_selection import train_test_split\n",
    "\n",
    "\n",
    "X_train, X_test, y_train, y_test = train_test_split(X, y, test_size=0.2, random_state=42)"
   ]
  },
  {
   "cell_type": "code",
   "execution_count": null,
   "metadata": {},
   "outputs": [],
   "source": [
    "from sklearn.linear_model import LinearRegression\n",
    "from sklearn.svm import SVR\n",
    "from sklearn.ensemble import GradientBoostingRegressor, AdaBoostRegressor\n",
    "from sklearn.neighbors import KNeighborsRegressor\n",
    "from sklearn.neural_network import MLPRegressor\n",
    "from xgboost import XGBRegressor\n",
    "from sklearn.metrics import mean_absolute_error, mean_squared_error, r2_score\n",
    "import matplotlib.pyplot as plt\n",
    "import numpy as np\n",
    "import csv\n",
    "\n",
    "# Define models to train\n",
    "models = {\n",
    "    \"Linear Regression\": LinearRegression(),\n",
    "    \"SVR\": SVR(),\n",
    "    \"GradientBoosting Regressor\": GradientBoostingRegressor(random_state=42),\n",
    "    \"XGBoost\": XGBRegressor(random_state=42),\n",
    "    \"KNeighbors\": KNeighborsRegressor(),\n",
    "    \"AdaBoostRegressor\": AdaBoostRegressor(random_state=42),\n",
    "    \"MLP Regressor\": MLPRegressor(hidden_layer_sizes=(100, 50), max_iter=1000, random_state=42)\n",
    "}\n",
    "\n",
    "# Initialize results list\n",
    "results = []\n",
    "\n",
    "# Train and evaluate each model\n",
    "for name, model in models.items():\n",
    "    model.fit(X_train, y_train)\n",
    "    y_pred = model.predict(X_test)\n",
    "    \n",
    "    mae = mean_absolute_error(y_test, y_pred)\n",
    "    rmse = np.sqrt(mean_squared_error(y_test, y_pred))\n",
    "    r2 = r2_score(y_test, y_pred)\n",
    "    \n",
    "    results.append({\"Model\": name, \"MAE\": mae, \"RMSE\": rmse, \"R-squared\": r2})\n",
    "    \n",
    "    # Plot actual vs predicted\n",
    "    plt.figure(figsize=(8, 6))\n",
    "    plt.scatter(y_test, y_pred, alpha=0.7)\n",
    "    plt.xlabel(\"Actual NP3TOT\")\n",
    "    plt.ylabel(\"Predicted NP3TOT\")\n",
    "    plt.title(f\"Actual vs Predicted NP3TOT ({name})\")\n",
    "    plt.plot([y_test.min(), y_test.max()], [y_test.min(), y_test.max()], 'r--')\n",
    "    plt.tight_layout()\n",
    "    plt.show()\n",
    "\n",
    "# Write results to a CSV file\n",
    "csv_file = \"model_results.csv\"\n",
    "with open(csv_file, mode='w', newline='') as file:\n",
    "    writer = csv.DictWriter(file, fieldnames=[\"Model\", \"MAE\", \"RMSE\", \"R-squared\"])\n",
    "    writer.writeheader()\n",
    "    writer.writerows(results)\n",
    "\n",
    "print(f\"Results written to {csv_file}\")"
   ]
  },
  {
   "cell_type": "markdown",
   "metadata": {},
   "source": [
    "## Cross-Validation"
   ]
  },
  {
   "cell_type": "code",
   "execution_count": null,
   "metadata": {},
   "outputs": [],
   "source": [
    "from sklearn.linear_model import LinearRegression\n",
    "from sklearn.svm import SVR\n",
    "from sklearn.ensemble import GradientBoostingRegressor, AdaBoostRegressor\n",
    "from sklearn.neighbors import KNeighborsRegressor\n",
    "from sklearn.neural_network import MLPRegressor\n",
    "from xgboost import XGBRegressor\n",
    "from sklearn.metrics import mean_absolute_error, mean_squared_error, r2_score\n",
    "from sklearn.model_selection import cross_val_predict, cross_val_score, KFold\n",
    "import matplotlib.pyplot as plt\n",
    "import numpy as np\n",
    "import csv\n",
    "\n",
    "# Define models to train\n",
    "models = {\n",
    "    \"Linear Regression\": LinearRegression(),\n",
    "    \"SVR\": SVR(),\n",
    "    \"GradientBoosting Regressor\": GradientBoostingRegressor(random_state=42),\n",
    "    \"XGBoost\": XGBRegressor(random_state=42),\n",
    "    \"KNeighbors\": KNeighborsRegressor(),\n",
    "    \"AdaBoostRegressor\": AdaBoostRegressor(random_state=42),\n",
    "    \"MLP Regressor\": MLPRegressor(hidden_layer_sizes=(100, 50), max_iter=1000, random_state=42)\n",
    "}\n",
    "\n",
    "# Initialize results list\n",
    "results = []\n",
    "\n",
    "# Define cross-validation strategy\n",
    "cv = KFold(n_splits=5, shuffle=True, random_state=42)\n",
    "\n",
    "# Evaluate each model using cross-validation\n",
    "for name, model in models.items():\n",
    "    print(f\"Evaluating {name}...\")\n",
    "\n",
    "    # Cross-validated predictions (for metrics and plots)\n",
    "    y_pred = cross_val_predict(model, X_train, y_train, cv=cv)\n",
    "\n",
    "    mae = mean_absolute_error(y_train, y_pred)\n",
    "    rmse = np.sqrt(mean_squared_error(y_train, y_pred))\n",
    "    r2 = r2_score(y_train, y_pred)\n",
    "\n",
    "    results.append({\"Model\": name, \"MAE\": mae, \"RMSE\": rmse, \"R-squared\": r2})\n",
    "\n",
    "    # Plot actual vs predicted\n",
    "    plt.figure(figsize=(8, 6))\n",
    "    plt.scatter(y_train, y_pred, alpha=0.7)\n",
    "    plt.xlabel(\"Actual NP3TOT\")\n",
    "    plt.ylabel(\"Predicted NP3TOT\")\n",
    "    plt.title(f\"Cross-Validated Actual vs Predicted NP3TOT ({name})\")\n",
    "    plt.plot([y_train.min(), y_train.max()], [y_train.min(), y_train.max()], 'r--')\n",
    "    plt.tight_layout()\n",
    "    plt.show()\n",
    "\n",
    "# Write results to a CSV file\n",
    "csv_file = \"model_results_cv.csv\"\n",
    "with open(csv_file, mode='w', newline='') as file:\n",
    "    writer = csv.DictWriter(file, fieldnames=[\"Model\", \"MAE\", \"RMSE\", \"R-squared\"])\n",
    "    writer.writeheader()\n",
    "    writer.writerows(results)\n",
    "\n",
    "print(f\"Cross-validated results written to {csv_file}\")"
   ]
  },
  {
   "cell_type": "code",
   "execution_count": null,
   "metadata": {},
   "outputs": [],
   "source": []
  }
 ],
 "metadata": {
  "kernelspec": {
   "display_name": "venv",
   "language": "python",
   "name": "python3"
  },
  "language_info": {
   "codemirror_mode": {
    "name": "ipython",
    "version": 3
   },
   "file_extension": ".py",
   "mimetype": "text/x-python",
   "name": "python",
   "nbconvert_exporter": "python",
   "pygments_lexer": "ipython3",
   "version": "3.11.11"
  }
 },
 "nbformat": 4,
 "nbformat_minor": 2
}
