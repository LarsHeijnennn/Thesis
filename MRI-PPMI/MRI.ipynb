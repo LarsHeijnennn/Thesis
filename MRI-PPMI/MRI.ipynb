{
 "cells": [
  {
   "cell_type": "code",
   "execution_count": 1,
   "metadata": {},
   "outputs": [],
   "source": [
    "import pandas as pd\n",
    "\n",
    "motor_file = '/Users/larsheijnen/Thesis/data/motor/MDS-UPDRS_Part_III_21Mar2025.csv'\n",
    "mri_file = '/Users/larsheijnen/Thesis/data/MRI/Magnetic_Resonance_Imaging__MRI__30Mar2025.csv'\n",
    "output_file = '/Users/larsheijnen/Thesis/data/MRI/merged_motor_mri_data_by_patno_event.csv'"
   ]
  },
  {
   "cell_type": "code",
   "execution_count": 2,
   "metadata": {},
   "outputs": [
    {
     "name": "stdout",
     "output_type": "stream",
     "text": [
      "(32346, 63)\n",
      "(7596, 15)\n"
     ]
    }
   ],
   "source": [
    "motor_df = pd.read_csv(motor_file)\n",
    "print(motor_df.shape)\n",
    "\n",
    "mri_df = pd.read_csv(mri_file)\n",
    "print(mri_df.shape)"
   ]
  },
  {
   "cell_type": "code",
   "execution_count": 3,
   "metadata": {},
   "outputs": [],
   "source": [
    "merge_cols = ['PATNO', 'EVENT_ID']\n",
    "missing_motor_cols = [col for col in merge_cols if col not in motor_df.columns]\n",
    "missing_mri_cols = [col for col in merge_cols if col not in mri_df.columns]\n",
    "\n",
    "if missing_motor_cols:\n",
    "    print(f\"\\nError: Merge columns missing in motor_df: {missing_motor_cols}\")\n",
    "    exit()\n",
    "if missing_mri_cols:\n",
    "    print(f\"\\nError: Merge columns missing in mri_df: {missing_mri_cols}\")\n",
    "    exit()"
   ]
  },
  {
   "cell_type": "code",
   "execution_count": 4,
   "metadata": {},
   "outputs": [
    {
     "name": "stdout",
     "output_type": "stream",
     "text": [
      "Date parsing attempted.\n"
     ]
    },
    {
     "name": "stderr",
     "output_type": "stream",
     "text": [
      "/var/folders/kw/d3zgy6jx0gl0lybbg494yl8c0000gn/T/ipykernel_31633/1202056296.py:21: UserWarning: Could not infer format, so each element will be parsed individually, falling back to `dateutil`. To ensure parsing is consistent and as-expected, please specify a format.\n",
      "  parsed_series = parsed_series.fillna(pd.to_datetime(series, errors='coerce'))\n",
      "/var/folders/kw/d3zgy6jx0gl0lybbg494yl8c0000gn/T/ipykernel_31633/1202056296.py:21: UserWarning: Could not infer format, so each element will be parsed individually, falling back to `dateutil`. To ensure parsing is consistent and as-expected, please specify a format.\n",
      "  parsed_series = parsed_series.fillna(pd.to_datetime(series, errors='coerce'))\n"
     ]
    }
   ],
   "source": [
    "date_formats_to_try = [\"%m/%Y\", \"%m/%d/%Y\", \"%Y-%m-%d %H:%M:%S.%f\", \"%Y-%m-%d\"] # Add other expected formats\n",
    "\n",
    "def robust_date_parse(series, formats):\n",
    "    \"\"\"Tries multiple formats to parse dates, returns NaT on failure.\"\"\"\n",
    "    parsed_series = pd.NaT\n",
    "    for fmt in formats:\n",
    "        try:\n",
    "            # Try parsing with the current format, only update NaT values\n",
    "            current_parsed = pd.to_datetime(series, format=fmt, errors='coerce')\n",
    "            if parsed_series is pd.NaT:\n",
    "                 parsed_series = current_parsed\n",
    "            else:\n",
    "                parsed_series = parsed_series.fillna(current_parsed)\n",
    "        except (ValueError, TypeError):\n",
    "             # Ignore if format doesn't match at all for the series type\n",
    "            continue\n",
    "    # Final attempt with automatic inference for any remaining NaTs\n",
    "    if parsed_series is pd.NaT: # Handle case where series was completely unparseable initially\n",
    "        parsed_series = pd.to_datetime(series, errors='coerce')\n",
    "    else:\n",
    "         parsed_series = parsed_series.fillna(pd.to_datetime(series, errors='coerce'))\n",
    "\n",
    "    return parsed_series\n",
    "\n",
    "if 'INFODT' in motor_df.columns:\n",
    "    motor_df['INFODT_parsed'] = robust_date_parse(motor_df['INFODT'], date_formats_to_try)\n",
    "if 'INFODT' in mri_df.columns:\n",
    "    mri_df['INFODT_parsed'] = robust_date_parse(mri_df['INFODT'], date_formats_to_try)\n",
    "\n",
    "print(\"Date parsing attempted.\")"
   ]
  },
  {
   "cell_type": "code",
   "execution_count": 5,
   "metadata": {},
   "outputs": [
    {
     "name": "stdout",
     "output_type": "stream",
     "text": [
      "\n",
      "Merging dataframes on: ['PATNO', 'EVENT_ID']\n",
      "\n",
      "Merge complete. Resulting dataframe shape: (8131, 78)\n",
      "\n",
      "--- Merged Data Sample (First 5 Rows) ---\n",
      "  REC_ID_motor  PATNO EVENT_ID PAG_NAME_motor INFODT_motor  PDTRTMNT PDSTATE  \\\n",
      "0    272451901   3000       BL        NUPDRS3      02/2011       NaN     NaN   \n",
      "1    563731101   3000      V12        NUPDRS3      04/2016       NaN     NaN   \n",
      "2    278743601   3001       BL        NUPDRS3      03/2011       0.0     NaN   \n",
      "3    281541201   3002       BL        NUPDRS3      03/2011       0.0     NaN   \n",
      "4    287051101   3003       BL        NUPDRS3      04/2011       0.0     NaN   \n",
      "\n",
      "   HRPOSTMED  HRDBSON  HRDBSOFF  ...  MRICMPLT  MRIWDTI  MRIWRSS  MRIRSLT  \\\n",
      "0        NaN      NaN       NaN  ...       1.0      0.0      NaN      2.0   \n",
      "1        NaN      NaN       NaN  ...       0.0      NaN      NaN      NaN   \n",
      "2        NaN      NaN       NaN  ...       1.0      0.0      NaN      2.0   \n",
      "3        NaN      NaN       NaN  ...       1.0      0.0      NaN      2.0   \n",
      "4        NaN      NaN       NaN  ...       1.0      0.0      NaN      1.0   \n",
      "\n",
      "   MRIRSSDF PDMEDDT_mri  PDMEDTM_mri  ORIG_ENTRY_mri        LAST_UPDATE_mri  \\\n",
      "0       NaN         NaN          NaN         02/2011  2020-06-25 16:02:19.0   \n",
      "1       NaN         NaN          NaN         12/2018  2020-06-25 16:02:23.0   \n",
      "2       NaN         NaN          NaN         03/2011  2020-06-25 16:04:30.0   \n",
      "3       NaN         NaN          NaN         03/2011  2020-04-01 17:33:41.0   \n",
      "4       NaN         NaN          NaN         04/2011  2020-06-25 16:06:23.0   \n",
      "\n",
      "  INFODT_parsed_mri  \n",
      "0        2011-02-01  \n",
      "1               NaT  \n",
      "2        2011-03-01  \n",
      "3        2011-03-01  \n",
      "4        2011-04-01  \n",
      "\n",
      "[5 rows x 78 columns]\n",
      "\n",
      "--- Overlapping Columns (Excluding Merge Keys) ---\n",
      "Columns with suffixes added: ['INFODT', 'INFODT_parsed', 'LAST_UPDATE', 'ORIG_ENTRY', 'PAG_NAME', 'PDMEDDT', 'PDMEDTM', 'REC_ID']\n",
      "\n",
      "Comparison of INFODT columns (example):\n",
      "  INFODT_motor INFODT_mri\n",
      "0      02/2011    02/2011\n",
      "1      04/2016        NaN\n",
      "2      03/2011    03/2011\n",
      "3      03/2011    03/2011\n",
      "4      04/2011    04/2011\n",
      "\n",
      "Comparison of INFODT_parsed columns (example):\n",
      "  INFODT_parsed_motor INFODT_parsed_mri\n",
      "0          2011-02-01        2011-02-01\n",
      "1          2016-04-01               NaT\n",
      "2          2011-03-01        2011-03-01\n",
      "3          2011-03-01        2011-03-01\n",
      "4          2011-04-01        2011-04-01\n",
      "\n",
      "Saving merged data to: /Users/larsheijnen/Thesis/data/MRI/merged_motor_mri_data_by_patno_event.csv\n",
      "Successfully saved merged data to /Users/larsheijnen/Thesis/data/MRI/merged_motor_mri_data_by_patno_event.csv\n"
     ]
    }
   ],
   "source": [
    "print(f\"\\nMerging dataframes on: {merge_cols}\")\n",
    "\n",
    "# Using 'inner' merge: Keeps only rows where PATNO+EVENT_ID combination exists in BOTH datasets.\n",
    "# Use 'left' merge if you want to keep ALL rows from the motor_df and add MRI data where it matches.\n",
    "# Use suffixes to automatically rename overlapping columns (like INFODT, PAG_NAME, REC_ID, etc.)\n",
    "# excluding the merge keys ('PATNO', 'EVENT_ID').\n",
    "merged_df = pd.merge(\n",
    "    motor_df,\n",
    "    mri_df,\n",
    "    on=merge_cols,\n",
    "    how='inner', # Change to 'left' to keep all motor records, 'outer' for all records from both\n",
    "    suffixes=('_motor', '_mri') # Appends suffix to overlapping column names\n",
    ")\n",
    "\n",
    "print(f\"\\nMerge complete. Resulting dataframe shape: {merged_df.shape}\")\n",
    "\n",
    "# --- Post-Merge Inspection ---\n",
    "if merged_df.empty:\n",
    "    print(\"Warning: The merged dataframe is empty. This might indicate no matching PATNO+EVENT_ID pairs \"\n",
    "          \"based on the 'inner' merge strategy. Consider trying 'left' or 'outer' merge \"\n",
    "          \"or double-check the merge key values in your CSV files.\")\n",
    "else:\n",
    "    print(\"\\n--- Merged Data Sample (First 5 Rows) ---\")\n",
    "    print(merged_df.head())\n",
    "\n",
    "    # Identify and list overlapping columns that received suffixes\n",
    "    print(\"\\n--- Overlapping Columns (Excluding Merge Keys) ---\")\n",
    "    motor_cols_set = set(motor_df.columns)\n",
    "    mri_cols_set = set(mri_df.columns)\n",
    "    overlapping_cols = (motor_cols_set.intersection(mri_cols_set)) - set(merge_cols)\n",
    "\n",
    "    if overlapping_cols:\n",
    "        print(f\"Columns with suffixes added: {sorted(list(overlapping_cols))}\")\n",
    "        # Example: Display the original and parsed date columns side-by-side if they overlapped\n",
    "        if 'INFODT' in overlapping_cols:\n",
    "             print(\"\\nComparison of INFODT columns (example):\")\n",
    "             print(merged_df[[f'INFODT_motor', f'INFODT_mri']].head())\n",
    "             if 'INFODT_parsed_motor' in merged_df.columns and 'INFODT_parsed_mri' in merged_df.columns:\n",
    "                   print(\"\\nComparison of INFODT_parsed columns (example):\")\n",
    "                   print(merged_df[[f'INFODT_parsed_motor', f'INFODT_parsed_mri']].head())\n",
    "    else:\n",
    "        print(\"No overlapping columns found besides merge keys.\")\n",
    "\n",
    "    # --- Save Merged Data ---\n",
    "    print(f\"\\nSaving merged data to: {output_file}\")\n",
    "    try:\n",
    "        merged_df.to_csv(output_file, index=False, encoding='utf-8')\n",
    "        print(f\"Successfully saved merged data to {output_file}\")\n",
    "    except Exception as e:\n",
    "        print(f\"Error saving merged data: {e}\")"
   ]
  }
 ],
 "metadata": {
  "kernelspec": {
   "display_name": "venv",
   "language": "python",
   "name": "python3"
  },
  "language_info": {
   "codemirror_mode": {
    "name": "ipython",
    "version": 3
   },
   "file_extension": ".py",
   "mimetype": "text/x-python",
   "name": "python",
   "nbconvert_exporter": "python",
   "pygments_lexer": "ipython3",
   "version": "3.11.11"
  }
 },
 "nbformat": 4,
 "nbformat_minor": 2
}
